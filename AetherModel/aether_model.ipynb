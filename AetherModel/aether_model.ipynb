{
 "cells": [
  {
   "cell_type": "code",
   "id": "initial_id",
   "metadata": {
    "collapsed": true,
    "ExecuteTime": {
     "end_time": "2025-06-23T04:32:47.482106Z",
     "start_time": "2025-06-23T04:32:44.871244Z"
    }
   },
   "source": [
    "import pandas as pd\n",
    "from sklearn.model_selection import train_test_split\n",
    "from sklearn.preprocessing import StandardScaler\n",
    "from sklearn.ensemble import RandomForestRegressor\n",
    "from sklearn.metrics import mean_squared_error, r2_score, mean_absolute_error\n",
    "import joblib"
   ],
   "outputs": [],
   "execution_count": 3
  },
  {
   "metadata": {
    "ExecuteTime": {
     "end_time": "2025-06-23T04:30:56.415579Z",
     "start_time": "2025-06-23T04:30:56.099661Z"
    }
   },
   "cell_type": "code",
   "source": "dataSet = pd.read_excel(\"aet_data.xlsx\")",
   "id": "6351abc59198bf10",
   "outputs": [],
   "execution_count": 2
  },
  {
   "metadata": {
    "ExecuteTime": {
     "end_time": "2025-06-23T04:34:31.151992Z",
     "start_time": "2025-06-23T04:34:31.137975Z"
    }
   },
   "cell_type": "code",
   "source": [
    "x = dataSet.drop(columns=[\"System_Response(CPU)\", \"System_Response(RAM)\"], axis=1).values\n",
    "y = dataSet[[\"System_Response(CPU)\", \"System_Response(RAM)\"]].values"
   ],
   "id": "ba662f8f3641c534",
   "outputs": [],
   "execution_count": 4
  },
  {
   "metadata": {
    "ExecuteTime": {
     "end_time": "2025-06-23T04:35:06.668397Z",
     "start_time": "2025-06-23T04:35:06.652408Z"
    }
   },
   "cell_type": "code",
   "source": "x_train, x_test, y_train, y_test = train_test_split(x, y, test_size=0.2, random_state=42)",
   "id": "aacd830d5d5a3161",
   "outputs": [],
   "execution_count": 5
  },
  {
   "metadata": {
    "ExecuteTime": {
     "end_time": "2025-06-23T04:35:55.849570Z",
     "start_time": "2025-06-23T04:35:55.834328Z"
    }
   },
   "cell_type": "code",
   "source": [
    "def scale_data(train, test):\n",
    "    scaler = StandardScaler()\n",
    "    train_scaled = scaler.fit_transform(train)\n",
    "    test_scaled = scaler.transform(test)\n",
    "    return train_scaled, test_scaled, scaler"
   ],
   "id": "7f3ad09a95dbd556",
   "outputs": [],
   "execution_count": 6
  },
  {
   "metadata": {
    "ExecuteTime": {
     "end_time": "2025-06-23T04:36:58.938515Z",
     "start_time": "2025-06-23T04:36:58.925601Z"
    }
   },
   "cell_type": "code",
   "source": [
    "x_train, x_test, x_scaler = scale_data(x_train, x_test)\n",
    "y_train, y_test, y_scaler = scale_data(y_train, y_test)"
   ],
   "id": "f0271da4d5496baf",
   "outputs": [],
   "execution_count": 7
  },
  {
   "metadata": {
    "ExecuteTime": {
     "end_time": "2025-06-23T04:39:44.958327Z",
     "start_time": "2025-06-23T04:39:44.953323Z"
    }
   },
   "cell_type": "code",
   "source": [
    "def train_model(train_1, train_2):\n",
    "    model = RandomForestRegressor(\n",
    "        n_estimators=200,\n",
    "        max_depth=10,\n",
    "        min_samples_leaf=4,\n",
    "        min_samples_split=5,\n",
    "        random_state=42,\n",
    "        n_jobs=1\n",
    "    )\n",
    "    model.fit(train_1, train_2)\n",
    "    return model"
   ],
   "id": "82787dfa2f4141a5",
   "outputs": [],
   "execution_count": 8
  },
  {
   "metadata": {
    "ExecuteTime": {
     "end_time": "2025-06-23T04:40:09.314406Z",
     "start_time": "2025-06-23T04:40:09.134198Z"
    }
   },
   "cell_type": "code",
   "source": "aet_ai = train_model(x_train, y_train)",
   "id": "c1eaaeb24c7c268a",
   "outputs": [],
   "execution_count": 9
  },
  {
   "metadata": {
    "ExecuteTime": {
     "end_time": "2025-06-23T04:42:41.183713Z",
     "start_time": "2025-06-23T04:42:41.165724Z"
    }
   },
   "cell_type": "code",
   "source": [
    "def test_model(model, test_1, test_2, mse_edge):\n",
    "    predictions = model.predict(test_1)\n",
    "\n",
    "    mse = mean_squared_error(test_2, predictions)\n",
    "    r2 = r2_score(test_2, predictions)\n",
    "    mae = mean_absolute_error(test_2, predictions)\n",
    "\n",
    "    print(f\"Mean Squared Error: {mse:.4f}\")\n",
    "    print(f\"R^2 Score: {r2:.4f}\")\n",
    "    print(f\"Mean Absolute Error: {mae:.4f}\")\n",
    "\n",
    "    if mse < mse_edge:\n",
    "        print(\"Model performance is acceptable.\")\n",
    "        joblib.dump(model, \"aether_ai.pkl\")\n",
    "        joblib.dump(x_scaler, \"x_scaler.pkl\")\n",
    "        joblib.dump(y_scaler, \"y_scaler.pkl\")\n",
    "    else:\n",
    "        print(\"Model performance is not acceptable.\")\n",
    "    return predictions"
   ],
   "id": "319a7aecc25da899",
   "outputs": [],
   "execution_count": 10
  },
  {
   "metadata": {
    "ExecuteTime": {
     "end_time": "2025-06-23T04:43:13.037606Z",
     "start_time": "2025-06-23T04:43:12.795278Z"
    }
   },
   "cell_type": "code",
   "source": "test_model(aet_ai, x_test, y_test, mse_edge=0.1)",
   "id": "51a453611736bbca",
   "outputs": [
    {
     "name": "stdout",
     "output_type": "stream",
     "text": [
      "Mean Squared Error: 0.0053\n",
      "R^2 Score: 0.9951\n",
      "Mean Absolute Error: 0.0380\n",
      "Model performance is acceptable.\n"
     ]
    },
    {
     "data": {
      "text/plain": [
       "array([[ 1.06872313,  1.06872313],\n",
       "       [ 0.11901239,  0.11901239],\n",
       "       [ 0.51328993,  0.51328993],\n",
       "       [ 0.51606583,  0.51606583],\n",
       "       [-0.03643825, -0.03643825],\n",
       "       [-0.58502182, -0.58502182],\n",
       "       [-1.1517969 , -1.1517969 ],\n",
       "       [-0.03643825, -0.03643825],\n",
       "       [-1.58545703, -1.58545703],\n",
       "       [-1.68261368, -1.68261368],\n",
       "       [-1.1545728 , -1.1545728 ],\n",
       "       [-0.60722905, -0.60722905],\n",
       "       [ 1.43209301,  1.43209301],\n",
       "       [-0.59890134, -0.59890134],\n",
       "       [ 1.06872313,  1.06872313],\n",
       "       [-1.68261368, -1.68261368],\n",
       "       [ 1.23737654,  1.23737654],\n",
       "       [ 1.06872313,  1.06872313],\n",
       "       [-1.21519326, -1.21519326],\n",
       "       [-0.59890134, -0.59890134],\n",
       "       [ 1.06872313,  1.06872313]])"
      ]
     },
     "execution_count": 11,
     "metadata": {},
     "output_type": "execute_result"
    }
   ],
   "execution_count": 11
  }
 ],
 "metadata": {
  "kernelspec": {
   "display_name": "Python 3",
   "language": "python",
   "name": "python3"
  },
  "language_info": {
   "codemirror_mode": {
    "name": "ipython",
    "version": 2
   },
   "file_extension": ".py",
   "mimetype": "text/x-python",
   "name": "python",
   "nbconvert_exporter": "python",
   "pygments_lexer": "ipython2",
   "version": "2.7.6"
  }
 },
 "nbformat": 4,
 "nbformat_minor": 5
}
